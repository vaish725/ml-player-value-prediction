{
 "cells": [
  {
   "cell_type": "code",
   "execution_count": 32,
   "id": "0627de3c",
   "metadata": {},
   "outputs": [],
   "source": [
    "# 0.  SET-UP\n",
    "import pandas as pd, numpy as np, joblib\n",
    "from sklearn.compose import ColumnTransformer\n",
    "from sklearn.pipeline import Pipeline\n",
    "from sklearn.preprocessing import StandardScaler, OneHotEncoder\n",
    "from sklearn.model_selection import TimeSeriesSplit\n",
    "from sklearn.metrics import roc_auc_score, classification_report\n",
    "from xgboost import XGBClassifier\n",
    "from sklearn.preprocessing import OrdinalEncoder, OneHotEncoder\n",
    "from sklearn.compose import ColumnTransformer\n",
    "from sklearn.pipeline import Pipeline\n",
    "from sklearn.preprocessing import StandardScaler"
   ]
  },
  {
   "cell_type": "code",
   "execution_count": 18,
   "id": "c6b7a32f",
   "metadata": {},
   "outputs": [],
   "source": [
    "PATH = \"../datasets/cleaned_fifa_dataset_v3_with_features.csv\"\n",
    "df = pd.read_csv(PATH).sort_values([\"p_id2\", \"start_year\"])"
   ]
  },
  {
   "cell_type": "code",
   "execution_count": 19,
   "id": "ba615eb5",
   "metadata": {},
   "outputs": [],
   "source": [
    "# 2.  BUILD A FUTURE-LOOKING TARGET\n",
    "df[\"injury_next_season\"] = (\n",
    "    df.groupby(\"p_id2\")[\"significant_injury_prev_season\"]\n",
    "      .shift(-1)              # look one season ahead\n",
    "      .fillna(0)\n",
    "      .astype(int)\n",
    ")\n",
    "\n",
    "# optionally drop each player's final season (unknown future)\n",
    "df = df[df.groupby(\"p_id2\")[\"start_year\"]\n",
    "          .rank(method=\"first\").lt(df.groupby(\"p_id2\")[\"start_year\"].transform(\"count\"))]"
   ]
  },
  {
   "cell_type": "code",
   "execution_count": 27,
   "id": "c5d6c645",
   "metadata": {},
   "outputs": [],
   "source": [
    "# 3.  FEATURE SELECTION ― ***NO SAME-SEASON INJURY INFO***\n",
    "leak_cols = [\n",
    "    \"season_days_injured\",            # current-season outcome\n",
    "    \"season_days_injured_prev_season\",\n",
    "    \"total_days_injured\"              # cumulative *to date* leaks outcome\n",
    "]\n",
    "numeric = [\n",
    "    \"age\", \"bmi\", \"pace\", \"physic\", \"fifa_rating\",\n",
    "    \"season_minutes_played\", \"season_games_played\",\n",
    "    \"cumulative_minutes_played\", \"cumulative_games_played\",\n",
    "    \"minutes_per_game_prev_seasons\", \"avg_days_injured_prev_seasons\",\n",
    "    \"avg_games_per_season_prev_seasons\", \"cumulative_days_injured\",\n",
    "    \"injury_rate\", \"minutes_per_game\", \"experience_years\"\n",
    "]\n",
    "categorical = [\"bmi_class\", \"nationality\"]\n",
    "\n",
    "X = df.drop(columns=leak_cols + [\"injury_next_season\"])\n",
    "X = X[numeric + categorical]              # keep only allowed columns\n",
    "y = df[\"injury_next_season\"]"
   ]
  },
  {
   "cell_type": "code",
   "execution_count": 28,
   "id": "92bb715b",
   "metadata": {},
   "outputs": [],
   "source": [
    "# 4.  PREPROCESSING + MODEL\n",
    "pre = ColumnTransformer([\n",
    "        (\"num\", StandardScaler(), numeric),\n",
    "        (\"cat\", OneHotEncoder(handle_unknown=\"ignore\"), categorical)\n",
    "    ], remainder=\"drop\")\n",
    "\n",
    "clf = XGBClassifier(\n",
    "        objective=\"binary:logistic\",\n",
    "        eval_metric=\"auc\",\n",
    "        n_estimators=400,\n",
    "        max_depth=4,\n",
    "        learning_rate=0.05,\n",
    "        subsample=0.8,\n",
    "        colsample_bytree=0.8,\n",
    "        scale_pos_weight=(y==0).sum()/(y==1).sum(),\n",
    "        n_jobs=-1,\n",
    "        random_state=42\n",
    "    )\n",
    "\n",
    "pipe = Pipeline([(\"prep\", pre), (\"model\", clf)])\n"
   ]
  },
  {
   "cell_type": "code",
   "execution_count": 29,
   "id": "912b4ed1",
   "metadata": {},
   "outputs": [
    {
     "name": "stdout",
     "output_type": "stream",
     "text": [
      "Fold 1: AUC = 0.754\n",
      "Fold 2: AUC = 0.880\n",
      "Fold 3: AUC = 0.782\n",
      "Fold 3: AUC = 0.782\n",
      "Fold 4: AUC = 0.703\n",
      "Fold 4: AUC = 0.703\n",
      "Fold 5: AUC = 0.803\n",
      "\n",
      "CV AUC = 0.784 ± 0.059\n",
      "Fold 5: AUC = 0.803\n",
      "\n",
      "CV AUC = 0.784 ± 0.059\n"
     ]
    }
   ],
   "source": [
    "# 5.  TIME-SERIES CV (gap=1 season)\n",
    "tscv = TimeSeriesSplit(n_splits=5, gap=1)\n",
    "scores = []\n",
    "\n",
    "for fold, (train_idx, test_idx) in enumerate(tscv.split(X, y)):\n",
    "    pipe.fit(X.iloc[train_idx], y.iloc[train_idx])\n",
    "    y_pred = pipe.predict_proba(X.iloc[test_idx])[:, 1]\n",
    "    auc = roc_auc_score(y.iloc[test_idx], y_pred)\n",
    "    scores.append(auc)\n",
    "    print(f\"Fold {fold+1}: AUC = {auc:.3f}\")\n",
    "\n",
    "print(f\"\\nCV AUC = {np.mean(scores):.3f} ± {np.std(scores):.3f}\")"
   ]
  },
  {
   "cell_type": "code",
   "execution_count": 31,
   "id": "f0d78ea1",
   "metadata": {},
   "outputs": [
    {
     "name": "stdout",
     "output_type": "stream",
     "text": [
      "Saved ➜ ../models/injury_xgb_leakfree.joblib\n"
     ]
    }
   ],
   "source": [
    "# 6.  FINAL TRAIN & SAVE\n",
    "pipe.fit(X, y)\n",
    "joblib.dump(pipe, \"../models/injury_xgb_leakfree_v2.joblib\")\n",
    "print(\"Saved ➜ ../models/injury_xgb_leakfree.joblib\")"
   ]
  }
 ],
 "metadata": {
  "kernelspec": {
   "display_name": "Python 3",
   "language": "python",
   "name": "python3"
  },
  "language_info": {
   "codemirror_mode": {
    "name": "ipython",
    "version": 3
   },
   "file_extension": ".py",
   "mimetype": "text/x-python",
   "name": "python",
   "nbconvert_exporter": "python",
   "pygments_lexer": "ipython3",
   "version": "3.11.1"
  }
 },
 "nbformat": 4,
 "nbformat_minor": 5
}
